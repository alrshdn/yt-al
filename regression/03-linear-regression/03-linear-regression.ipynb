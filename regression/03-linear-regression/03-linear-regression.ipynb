{
 "cells": [
  {
   "cell_type": "markdown",
   "id": "35e9db5a-80ca-42f3-a80d-25e4230375ba",
   "metadata": {},
   "source": [
    "# Linear regression"
   ]
  },
  {
   "cell_type": "markdown",
   "id": "a5cc12a3-2d80-47fa-92bf-4463ef8b540a",
   "metadata": {},
   "source": [
    "### Reading the dataset\n",
    "\n",
    "Source: [Kaggle](https://www.kaggle.com/datasets/devzohaib/tvmarketingcsv)"
   ]
  },
  {
   "cell_type": "code",
   "execution_count": null,
   "id": "1b332ae4-a17b-4c32-ad8c-45c3e760e0dd",
   "metadata": {
    "tags": []
   },
   "outputs": [],
   "source": []
  },
  {
   "cell_type": "markdown",
   "id": "d63b66cd-f0c1-4826-9e3c-940f9838dc3f",
   "metadata": {},
   "source": [
    "### Visualizing the dataset\n",
    "\n",
    "- Is there a relationship?\n",
    "- What type of relationship?"
   ]
  },
  {
   "cell_type": "code",
   "execution_count": null,
   "id": "db2706d8-f859-443b-87f2-d539cc2823c3",
   "metadata": {
    "tags": []
   },
   "outputs": [],
   "source": []
  },
  {
   "cell_type": "markdown",
   "id": "1de6a99b-3920-4561-8ab2-26f85c970b16",
   "metadata": {},
   "source": [
    "### Creating and fitting the model"
   ]
  },
  {
   "cell_type": "code",
   "execution_count": null,
   "id": "25b9802e-a687-417f-b1ef-a35d89426dfb",
   "metadata": {
    "tags": []
   },
   "outputs": [],
   "source": []
  },
  {
   "cell_type": "markdown",
   "id": "e63f84ac-9f6c-43bc-a364-f00d5e904b53",
   "metadata": {},
   "source": [
    "### Visualizing the linear model\n",
    "\n",
    "- How good is it?"
   ]
  },
  {
   "cell_type": "code",
   "execution_count": null,
   "id": "f95d8c25-bcbe-4699-9e00-9cad499d081d",
   "metadata": {
    "tags": []
   },
   "outputs": [],
   "source": []
  },
  {
   "cell_type": "code",
   "execution_count": null,
   "id": "6983a3e3-c6b2-4b01-8229-691b342d865d",
   "metadata": {
    "tags": []
   },
   "outputs": [],
   "source": []
  },
  {
   "cell_type": "markdown",
   "id": "015e9519-92ab-4aad-8336-ef37102279d9",
   "metadata": {},
   "source": [
    "### Using the model for prediction\n",
    "\n",
    "- How much 'Sales' for 50 'Marketing'?\n",
    "- How much 'Sales' for 250 'Marketing'?\n"
   ]
  },
  {
   "cell_type": "code",
   "execution_count": null,
   "id": "e344676a-03cc-4b4f-b1ba-41db295fd84f",
   "metadata": {
    "tags": []
   },
   "outputs": [],
   "source": []
  }
 ],
 "metadata": {
  "kernelspec": {
   "display_name": "Python 3 (ipykernel)",
   "language": "python",
   "name": "python3"
  },
  "language_info": {
   "codemirror_mode": {
    "name": "ipython",
    "version": 3
   },
   "file_extension": ".py",
   "mimetype": "text/x-python",
   "name": "python",
   "nbconvert_exporter": "python",
   "pygments_lexer": "ipython3",
   "version": "3.10.9"
  }
 },
 "nbformat": 4,
 "nbformat_minor": 5
}
