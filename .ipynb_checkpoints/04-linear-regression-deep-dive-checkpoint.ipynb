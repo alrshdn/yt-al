{
 "cells": [
  {
   "cell_type": "markdown",
   "id": "dc5c4e48-b2df-4dc8-9721-171bbc81db42",
   "metadata": {},
   "source": [
    "# Linear equation"
   ]
  },
  {
   "cell_type": "code",
   "execution_count": 1,
   "id": "d09e2b08-b754-4907-bfb7-2c148cf0ed7c",
   "metadata": {
    "tags": []
   },
   "outputs": [
    {
     "name": "stdout",
     "output_type": "stream",
     "text": [
      "Y = f(0) = 0\n",
      "Y = f(1) = 1\n",
      "Y = f(2) = 2\n",
      "Y = f(3) = 3\n",
      "Y = f(4) = 4\n",
      "Y = f(5) = 5\n"
     ]
    }
   ],
   "source": [
    "def f(x: int):\n",
    "    '''A function to calculate the value of the dependent variable Y (outcome).'''\n",
    "    w = 1  # weight\n",
    "    b = 0  # bias\n",
    "    return w*x + b\n",
    "\n",
    "\n",
    "# changing the value of the independent variable x (predictor):\n",
    "for x in range(0, 6):\n",
    "    print(f\"Y = f({x}) =\", f(x))"
   ]
  }
 ],
 "metadata": {
  "kernelspec": {
   "display_name": "Python 3 (ipykernel)",
   "language": "python",
   "name": "python3"
  },
  "language_info": {
   "codemirror_mode": {
    "name": "ipython",
    "version": 3
   },
   "file_extension": ".py",
   "mimetype": "text/x-python",
   "name": "python",
   "nbconvert_exporter": "python",
   "pygments_lexer": "ipython3",
   "version": "3.10.9"
  }
 },
 "nbformat": 4,
 "nbformat_minor": 5
}
